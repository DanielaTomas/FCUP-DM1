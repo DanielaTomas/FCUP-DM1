{
 "cells": [
  {
   "attachments": {},
   "cell_type": "markdown",
   "metadata": {},
   "source": [
    "# Data Mining I - Should we loan?\n",
    "\n",
    "## Group\n",
    "\n",
    "* Daniela Tomás, up202004946\n",
    "* Diogo Nunes, up202007895\n",
    "* João Veloso, up202005801"
   ]
  },
  {
   "attachments": {},
   "cell_type": "markdown",
   "metadata": {},
   "source": [
    "## Problem statement\n",
    "\n"
   ]
  },
  {
   "attachments": {},
   "cell_type": "markdown",
   "metadata": {},
   "source": [
    "## Task 1: Data Understanding and Preparation\n",
    "\n",
    "* Firstly, we import the necessary libraries, packages and methods."
   ]
  },
  {
   "cell_type": "code",
   "execution_count": 176,
   "metadata": {},
   "outputs": [],
   "source": [
    "import pandas as pd\n",
    "import matplotlib.pyplot as plt\n",
    "import seaborn as sns\n",
    "from datetime import datetime\n",
    "import numpy as np\n",
    "from sklearn.preprocessing import LabelEncoder"
   ]
  },
  {
   "cell_type": "markdown",
   "metadata": {},
   "source": [
    "* We read the data from the CSV files and check the data using the head(), describe(), and other Pandas commands."
   ]
  },
  {
   "cell_type": "code",
   "execution_count": 205,
   "metadata": {},
   "outputs": [
    {
     "name": "stderr",
     "output_type": "stream",
     "text": [
      "C:\\Users\\35191\\AppData\\Local\\Temp\\ipykernel_6112\\3453540627.py:7: DtypeWarning: Columns (8) have mixed types. Specify dtype option on import or set low_memory=False.\n",
      "  trans_dev = pd.read_csv('bank/trans_dev.csv', delimiter=\";\")\n"
     ]
    }
   ],
   "source": [
    "account = pd.read_csv('bank/account.csv', delimiter=\";\")\n",
    "card_dev = pd.read_csv('bank/card_dev.csv', delimiter=\";\")\n",
    "client = pd.read_csv('bank/client.csv', delimiter=\";\")\n",
    "disp = pd.read_csv('bank/disp.csv', delimiter=\";\")\n",
    "district = pd.read_csv('bank/district.csv', delimiter=\";\")\n",
    "loan_dev = pd.read_csv('bank/loan_dev.csv', delimiter=\";\")\n",
    "trans_dev = pd.read_csv('bank/trans_dev.csv', delimiter=\";\")"
   ]
  },
  {
   "cell_type": "markdown",
   "metadata": {},
   "source": [
    "### Account"
   ]
  },
  {
   "cell_type": "code",
   "execution_count": 178,
   "metadata": {},
   "outputs": [
    {
     "name": "stdout",
     "output_type": "stream",
     "text": [
      "4500 rows and 4 cols\n"
     ]
    },
    {
     "data": {
      "text/html": [
       "<div>\n",
       "<style scoped>\n",
       "    .dataframe tbody tr th:only-of-type {\n",
       "        vertical-align: middle;\n",
       "    }\n",
       "\n",
       "    .dataframe tbody tr th {\n",
       "        vertical-align: top;\n",
       "    }\n",
       "\n",
       "    .dataframe thead th {\n",
       "        text-align: right;\n",
       "    }\n",
       "</style>\n",
       "<table border=\"1\" class=\"dataframe\">\n",
       "  <thead>\n",
       "    <tr style=\"text-align: right;\">\n",
       "      <th></th>\n",
       "      <th>account_id</th>\n",
       "      <th>district_id</th>\n",
       "      <th>frequency</th>\n",
       "      <th>date</th>\n",
       "    </tr>\n",
       "  </thead>\n",
       "  <tbody>\n",
       "    <tr>\n",
       "      <th>0</th>\n",
       "      <td>576</td>\n",
       "      <td>55</td>\n",
       "      <td>monthly issuance</td>\n",
       "      <td>930101</td>\n",
       "    </tr>\n",
       "    <tr>\n",
       "      <th>1</th>\n",
       "      <td>3818</td>\n",
       "      <td>74</td>\n",
       "      <td>monthly issuance</td>\n",
       "      <td>930101</td>\n",
       "    </tr>\n",
       "    <tr>\n",
       "      <th>2</th>\n",
       "      <td>704</td>\n",
       "      <td>55</td>\n",
       "      <td>monthly issuance</td>\n",
       "      <td>930101</td>\n",
       "    </tr>\n",
       "    <tr>\n",
       "      <th>3</th>\n",
       "      <td>2378</td>\n",
       "      <td>16</td>\n",
       "      <td>monthly issuance</td>\n",
       "      <td>930101</td>\n",
       "    </tr>\n",
       "    <tr>\n",
       "      <th>4</th>\n",
       "      <td>2632</td>\n",
       "      <td>24</td>\n",
       "      <td>monthly issuance</td>\n",
       "      <td>930102</td>\n",
       "    </tr>\n",
       "  </tbody>\n",
       "</table>\n",
       "</div>"
      ],
      "text/plain": [
       "   account_id  district_id         frequency    date\n",
       "0         576           55  monthly issuance  930101\n",
       "1        3818           74  monthly issuance  930101\n",
       "2         704           55  monthly issuance  930101\n",
       "3        2378           16  monthly issuance  930101\n",
       "4        2632           24  monthly issuance  930102"
      ]
     },
     "execution_count": 178,
     "metadata": {},
     "output_type": "execute_result"
    }
   ],
   "source": [
    "print(str(account.shape[0]) + \" rows and \" + str(account.shape[1]) + \" cols\")\n",
    "account.head()"
   ]
  },
  {
   "cell_type": "code",
   "execution_count": 179,
   "metadata": {},
   "outputs": [
    {
     "name": "stdout",
     "output_type": "stream",
     "text": [
      "<class 'pandas.core.frame.DataFrame'>\n",
      "RangeIndex: 4500 entries, 0 to 4499\n",
      "Data columns (total 4 columns):\n",
      " #   Column       Non-Null Count  Dtype \n",
      "---  ------       --------------  ----- \n",
      " 0   account_id   4500 non-null   int64 \n",
      " 1   district_id  4500 non-null   int64 \n",
      " 2   frequency    4500 non-null   object\n",
      " 3   date         4500 non-null   int64 \n",
      "dtypes: int64(3), object(1)\n",
      "memory usage: 140.8+ KB\n"
     ]
    }
   ],
   "source": [
    "account.info()"
   ]
  },
  {
   "cell_type": "code",
   "execution_count": 180,
   "metadata": {},
   "outputs": [
    {
     "data": {
      "image/png": "[encoded data removed]",
      "text/plain": [
       "<Figure size 640x480 with 1 Axes>"
      ]
     },
     "metadata": {},
     "output_type": "display_data"
    }
   ],
   "source": [
    "account['date'] = pd.to_datetime(account['date'], format='%y%m%d')\n",
    "sns.histplot(account['date'], bins=20, kde=True)\n",
    "plt.xlabel('Account Creation Date')\n",
    "plt.title('Distribution of Account Creation Dates')\n",
    "plt.show()"
   ]
  },
  {
   "cell_type": "code",
   "execution_count": 181,
   "metadata": {},
   "outputs": [
    {
     "data": {
      "image/png": "[encoded data removed]",
      "text/plain": [
       "<Figure size 640x480 with 1 Axes>"
      ]
     },
     "metadata": {},
     "output_type": "display_data"
    }
   ],
   "source": [
    "sns.countplot(x='frequency', data=account)\n",
    "plt.title(\"Account Creation Frequency\")\n",
    "plt.xlabel(\"Frequency\")\n",
    "plt.show()"
   ]
  },
  {
   "cell_type": "markdown",
   "metadata": {},
   "source": [
    "#### Missing Values"
   ]
  },
  {
   "cell_type": "code",
   "execution_count": 182,
   "metadata": {},
   "outputs": [
    {
     "name": "stdout",
     "output_type": "stream",
     "text": [
      "account_id     0\n",
      "district_id    0\n",
      "frequency      0\n",
      "date           0\n",
      "dtype: int64\n",
      "\n",
      "There are 0 NA values\n"
     ]
    }
   ],
   "source": [
    "print(account.isna().sum())\n",
    "print()\n",
    "print(\"There are \" + str((account.isna().sum().sum())) + \" NA values\")"
   ]
  },
  {
   "cell_type": "markdown",
   "metadata": {},
   "source": [
    "#### Duplicate values"
   ]
  },
  {
   "cell_type": "code",
   "execution_count": 183,
   "metadata": {},
   "outputs": [
    {
     "name": "stdout",
     "output_type": "stream",
     "text": [
      "Dataset length: 4500\n",
      "Number of duplicates: 0\n"
     ]
    }
   ],
   "source": [
    "print(\"Dataset length: \" + str(len(account)))\n",
    "print(\"Number of duplicates: \" + str(account.duplicated().sum()))"
   ]
  },
  {
   "cell_type": "markdown",
   "metadata": {},
   "source": [
    "### Credit Card"
   ]
  },
  {
   "cell_type": "code",
   "execution_count": 184,
   "metadata": {},
   "outputs": [
    {
     "name": "stdout",
     "output_type": "stream",
     "text": [
      "177 rows and 4 cols\n"
     ]
    },
    {
     "data": {
      "text/html": [
       "<div>\n",
       "<style scoped>\n",
       "    .dataframe tbody tr th:only-of-type {\n",
       "        vertical-align: middle;\n",
       "    }\n",
       "\n",
       "    .dataframe tbody tr th {\n",
       "        vertical-align: top;\n",
       "    }\n",
       "\n",
       "    .dataframe thead th {\n",
       "        text-align: right;\n",
       "    }\n",
       "</style>\n",
       "<table border=\"1\" class=\"dataframe\">\n",
       "  <thead>\n",
       "    <tr style=\"text-align: right;\">\n",
       "      <th></th>\n",
       "      <th>card_id</th>\n",
       "      <th>disp_id</th>\n",
       "      <th>type</th>\n",
       "      <th>issued</th>\n",
       "    </tr>\n",
       "  </thead>\n",
       "  <tbody>\n",
       "    <tr>\n",
       "      <th>0</th>\n",
       "      <td>1005</td>\n",
       "      <td>9285</td>\n",
       "      <td>classic</td>\n",
       "      <td>931107</td>\n",
       "    </tr>\n",
       "    <tr>\n",
       "      <th>1</th>\n",
       "      <td>104</td>\n",
       "      <td>588</td>\n",
       "      <td>classic</td>\n",
       "      <td>940119</td>\n",
       "    </tr>\n",
       "    <tr>\n",
       "      <th>2</th>\n",
       "      <td>747</td>\n",
       "      <td>4915</td>\n",
       "      <td>classic</td>\n",
       "      <td>940205</td>\n",
       "    </tr>\n",
       "    <tr>\n",
       "      <th>3</th>\n",
       "      <td>70</td>\n",
       "      <td>439</td>\n",
       "      <td>classic</td>\n",
       "      <td>940208</td>\n",
       "    </tr>\n",
       "    <tr>\n",
       "      <th>4</th>\n",
       "      <td>577</td>\n",
       "      <td>3687</td>\n",
       "      <td>classic</td>\n",
       "      <td>940215</td>\n",
       "    </tr>\n",
       "  </tbody>\n",
       "</table>\n",
       "</div>"
      ],
      "text/plain": [
       "   card_id  disp_id     type  issued\n",
       "0     1005     9285  classic  931107\n",
       "1      104      588  classic  940119\n",
       "2      747     4915  classic  940205\n",
       "3       70      439  classic  940208\n",
       "4      577     3687  classic  940215"
      ]
     },
     "execution_count": 184,
     "metadata": {},
     "output_type": "execute_result"
    }
   ],
   "source": [
    "print(str(card_dev.shape[0]) + \" rows and \" + str(card_dev.shape[1]) + \" cols\")\n",
    "card_dev.head()"
   ]
  },
  {
   "cell_type": "code",
   "execution_count": 185,
   "metadata": {},
   "outputs": [
    {
     "name": "stdout",
     "output_type": "stream",
     "text": [
      "<class 'pandas.core.frame.DataFrame'>\n",
      "RangeIndex: 177 entries, 0 to 176\n",
      "Data columns (total 4 columns):\n",
      " #   Column   Non-Null Count  Dtype \n",
      "---  ------   --------------  ----- \n",
      " 0   card_id  177 non-null    int64 \n",
      " 1   disp_id  177 non-null    int64 \n",
      " 2   type     177 non-null    object\n",
      " 3   issued   177 non-null    int64 \n",
      "dtypes: int64(3), object(1)\n",
      "memory usage: 5.7+ KB\n"
     ]
    }
   ],
   "source": [
    "card_dev.info()"
   ]
  },
  {
   "cell_type": "code",
   "execution_count": 186,
   "metadata": {},
   "outputs": [
    {
     "data": {
      "image/png": "[encoded data removed]",
      "text/plain": [
       "<Figure size 640x480 with 1 Axes>"
      ]
     },
     "metadata": {},
     "output_type": "display_data"
    }
   ],
   "source": [
    "sns.countplot(x='type', data=card_dev)\n",
    "plt.title(\"Credit Card Types\")\n",
    "plt.xlabel(\"Type\")\n",
    "plt.show()"
   ]
  },
  {
   "cell_type": "markdown",
   "metadata": {},
   "source": [
    "#### Missing Values"
   ]
  },
  {
   "cell_type": "code",
   "execution_count": 187,
   "metadata": {},
   "outputs": [
    {
     "name": "stdout",
     "output_type": "stream",
     "text": [
      "card_id    0\n",
      "disp_id    0\n",
      "type       0\n",
      "issued     0\n",
      "dtype: int64\n",
      "\n",
      "There are 0 NA values\n"
     ]
    }
   ],
   "source": [
    "print(card_dev.isna().sum())\n",
    "print()\n",
    "print(\"There are \" + str((card_dev.isna().sum().sum())) + \" NA values\")"
   ]
  },
  {
   "cell_type": "markdown",
   "metadata": {},
   "source": [
    "#### Duplicate values"
   ]
  },
  {
   "cell_type": "code",
   "execution_count": 188,
   "metadata": {},
   "outputs": [
    {
     "name": "stdout",
     "output_type": "stream",
     "text": [
      "Dataset length: 177\n",
      "Number of duplicates: 0\n"
     ]
    }
   ],
   "source": [
    "print(\"Dataset length: \" + str(len(card_dev)))\n",
    "print(\"Number of duplicates: \" + str(card_dev.duplicated().sum()))"
   ]
  },
  {
   "cell_type": "markdown",
   "metadata": {},
   "source": [
    "### Client"
   ]
  },
  {
   "cell_type": "code",
   "execution_count": 189,
   "metadata": {},
   "outputs": [
    {
     "name": "stdout",
     "output_type": "stream",
     "text": [
      "5369 rows and 3 cols\n"
     ]
    },
    {
     "data": {
      "text/html": [
       "<div>\n",
       "<style scoped>\n",
       "    .dataframe tbody tr th:only-of-type {\n",
       "        vertical-align: middle;\n",
       "    }\n",
       "\n",
       "    .dataframe tbody tr th {\n",
       "        vertical-align: top;\n",
       "    }\n",
       "\n",
       "    .dataframe thead th {\n",
       "        text-align: right;\n",
       "    }\n",
       "</style>\n",
       "<table border=\"1\" class=\"dataframe\">\n",
       "  <thead>\n",
       "    <tr style=\"text-align: right;\">\n",
       "      <th></th>\n",
       "      <th>client_id</th>\n",
       "      <th>birth_number</th>\n",
       "      <th>district_id</th>\n",
       "    </tr>\n",
       "  </thead>\n",
       "  <tbody>\n",
       "    <tr>\n",
       "      <th>0</th>\n",
       "      <td>1</td>\n",
       "      <td>706213</td>\n",
       "      <td>18</td>\n",
       "    </tr>\n",
       "    <tr>\n",
       "      <th>1</th>\n",
       "      <td>2</td>\n",
       "      <td>450204</td>\n",
       "      <td>1</td>\n",
       "    </tr>\n",
       "    <tr>\n",
       "      <th>2</th>\n",
       "      <td>3</td>\n",
       "      <td>406009</td>\n",
       "      <td>1</td>\n",
       "    </tr>\n",
       "    <tr>\n",
       "      <th>3</th>\n",
       "      <td>4</td>\n",
       "      <td>561201</td>\n",
       "      <td>5</td>\n",
       "    </tr>\n",
       "    <tr>\n",
       "      <th>4</th>\n",
       "      <td>5</td>\n",
       "      <td>605703</td>\n",
       "      <td>5</td>\n",
       "    </tr>\n",
       "  </tbody>\n",
       "</table>\n",
       "</div>"
      ],
      "text/plain": [
       "   client_id  birth_number  district_id\n",
       "0          1        706213           18\n",
       "1          2        450204            1\n",
       "2          3        406009            1\n",
       "3          4        561201            5\n",
       "4          5        605703            5"
      ]
     },
     "execution_count": 189,
     "metadata": {},
     "output_type": "execute_result"
    }
   ],
   "source": [
    "print(str(client.shape[0]) + \" rows and \" + str(client.shape[1]) + \" cols\")\n",
    "client.head()"
   ]
  },
  {
   "cell_type": "code",
   "execution_count": 190,
   "metadata": {},
   "outputs": [
    {
     "name": "stdout",
     "output_type": "stream",
     "text": [
      "<class 'pandas.core.frame.DataFrame'>\n",
      "RangeIndex: 5369 entries, 0 to 5368\n",
      "Data columns (total 3 columns):\n",
      " #   Column        Non-Null Count  Dtype\n",
      "---  ------        --------------  -----\n",
      " 0   client_id     5369 non-null   int64\n",
      " 1   birth_number  5369 non-null   int64\n",
      " 2   district_id   5369 non-null   int64\n",
      "dtypes: int64(3)\n",
      "memory usage: 126.0 KB\n"
     ]
    }
   ],
   "source": [
    "client.info()"
   ]
  },
  {
   "cell_type": "markdown",
   "metadata": {},
   "source": [
    "#### Add 'sex' and 'age' columns to the Client dataset"
   ]
  },
  {
   "cell_type": "code",
   "execution_count": 191,
   "metadata": {},
   "outputs": [
    {
     "name": "stdout",
     "output_type": "stream",
     "text": [
      "      age     sex\n",
      "0      27  Female\n",
      "1      52    Male\n",
      "2      57  Female\n",
      "3      41    Male\n",
      "4      37  Female\n",
      "...   ...     ...\n",
      "5364   52  Female\n",
      "5365   54    Male\n",
      "5366   29    Male\n",
      "5367   35  Female\n",
      "5368   44  Female\n",
      "\n",
      "[5369 rows x 2 columns]\n"
     ]
    }
   ],
   "source": [
    "client = pd.read_csv('bank/client.csv', delimiter=\";\")\n",
    "\n",
    "client['sex'] = client['birth_number'].apply(lambda x: 'Male' if int(str(x)[2:4]) <= 12 else 'Female')\n",
    "\n",
    "def calculate_age(row):\n",
    "    #current_year = datetime.now().year\n",
    "    if row['sex'] == 'Male':\n",
    "        birth_date = datetime(int('19' + str(row['birth_number'])[0:2]), int(str(row['birth_number'])[2:4]), int(str(row['birth_number'])[4:6]))\n",
    "    else:\n",
    "        birth_date = datetime(int('19' + str(row['birth_number'])[0:2]), int(str(row['birth_number'])[2:4]) - 50, int(str(row['birth_number'])[4:6]))\n",
    "    age = 1997 - birth_date.year #- ((datetime.now().month, datetime.now().day) < (birth_date.month, birth_date.day))\n",
    "    return age\n",
    "\n",
    "client['age'] = client.apply(calculate_age, axis=1)\n",
    "client.drop('birth_number', axis=1, inplace=True)\n",
    "\n",
    "print(client[['age', 'sex']])"
   ]
  },
  {
   "cell_type": "code",
   "execution_count": 192,
   "metadata": {},
   "outputs": [
    {
     "name": "stdout",
     "output_type": "stream",
     "text": [
      "Number of men: 2724\n",
      "Number of women: 2645\n"
     ]
    }
   ],
   "source": [
    "m = client['sex'].value_counts()['Male']\n",
    "f = client['sex'].value_counts()['Female']\n",
    "print(\"Number of men:\", m)\n",
    "print(\"Number of women:\", f)"
   ]
  },
  {
   "cell_type": "code",
   "execution_count": 193,
   "metadata": {},
   "outputs": [
    {
     "data": {
      "image/png": "[encoded data removed]",
      "text/plain": [
       "<Figure size 640x480 with 1 Axes>"
      ]
     },
     "metadata": {},
     "output_type": "display_data"
    }
   ],
   "source": [
    "men_birth_years = client[client['sex'] == 'Male']['age']\n",
    "women_birth_years = client[client['sex'] == 'Female']['age']\n",
    "\n",
    "plt.hist(men_birth_years, bins=30, alpha=0.7, label='Male', edgecolor='black')\n",
    "plt.hist(women_birth_years, bins=30, alpha=0.7, label='Female', color='pink', edgecolor='black')\n",
    "\n",
    "plt.title('Distribution of Age by Gender')\n",
    "plt.xlabel('Age')\n",
    "plt.ylabel('Count')\n",
    "\n",
    "plt.legend(title=\"Gender\")\n",
    "plt.show()"
   ]
  },
  {
   "cell_type": "markdown",
   "metadata": {},
   "source": [
    "#### Missing Values"
   ]
  },
  {
   "cell_type": "code",
   "execution_count": 194,
   "metadata": {},
   "outputs": [
    {
     "name": "stdout",
     "output_type": "stream",
     "text": [
      "client_id      0\n",
      "district_id    0\n",
      "sex            0\n",
      "age            0\n",
      "dtype: int64\n",
      "\n",
      "There are 0 NA values\n"
     ]
    }
   ],
   "source": [
    "print(client.isna().sum())\n",
    "print()\n",
    "print(\"There are \" + str((client.isna().sum().sum())) + \" NA values\")"
   ]
  },
  {
   "cell_type": "markdown",
   "metadata": {},
   "source": [
    "#### Duplicate values"
   ]
  },
  {
   "cell_type": "code",
   "execution_count": 195,
   "metadata": {},
   "outputs": [
    {
     "name": "stdout",
     "output_type": "stream",
     "text": [
      "Dataset length: 5369\n",
      "Number of duplicates: 0\n"
     ]
    }
   ],
   "source": [
    "print(\"Dataset length: \" + str(len(client)))\n",
    "print(\"Number of duplicates: \" + str(client.duplicated().sum()))"
   ]
  },
  {
   "cell_type": "markdown",
   "metadata": {},
   "source": [
    "### Disposition"
   ]
  },
  {
   "cell_type": "code",
   "execution_count": 196,
   "metadata": {},
   "outputs": [
    {
     "name": "stdout",
     "output_type": "stream",
     "text": [
      "5369 rows and 4 cols\n"
     ]
    },
    {
     "data": {
      "text/html": [
       "<div>\n",
       "<style scoped>\n",
       "    .dataframe tbody tr th:only-of-type {\n",
       "        vertical-align: middle;\n",
       "    }\n",
       "\n",
       "    .dataframe tbody tr th {\n",
       "        vertical-align: top;\n",
       "    }\n",
       "\n",
       "    .dataframe thead th {\n",
       "        text-align: right;\n",
       "    }\n",
       "</style>\n",
       "<table border=\"1\" class=\"dataframe\">\n",
       "  <thead>\n",
       "    <tr style=\"text-align: right;\">\n",
       "      <th></th>\n",
       "      <th>disp_id</th>\n",
       "      <th>client_id</th>\n",
       "      <th>account_id</th>\n",
       "      <th>type</th>\n",
       "    </tr>\n",
       "  </thead>\n",
       "  <tbody>\n",
       "    <tr>\n",
       "      <th>0</th>\n",
       "      <td>1</td>\n",
       "      <td>1</td>\n",
       "      <td>1</td>\n",
       "      <td>OWNER</td>\n",
       "    </tr>\n",
       "    <tr>\n",
       "      <th>1</th>\n",
       "      <td>2</td>\n",
       "      <td>2</td>\n",
       "      <td>2</td>\n",
       "      <td>OWNER</td>\n",
       "    </tr>\n",
       "    <tr>\n",
       "      <th>2</th>\n",
       "      <td>3</td>\n",
       "      <td>3</td>\n",
       "      <td>2</td>\n",
       "      <td>DISPONENT</td>\n",
       "    </tr>\n",
       "    <tr>\n",
       "      <th>3</th>\n",
       "      <td>4</td>\n",
       "      <td>4</td>\n",
       "      <td>3</td>\n",
       "      <td>OWNER</td>\n",
       "    </tr>\n",
       "    <tr>\n",
       "      <th>4</th>\n",
       "      <td>5</td>\n",
       "      <td>5</td>\n",
       "      <td>3</td>\n",
       "      <td>DISPONENT</td>\n",
       "    </tr>\n",
       "  </tbody>\n",
       "</table>\n",
       "</div>"
      ],
      "text/plain": [
       "   disp_id  client_id  account_id       type\n",
       "0        1          1           1      OWNER\n",
       "1        2          2           2      OWNER\n",
       "2        3          3           2  DISPONENT\n",
       "3        4          4           3      OWNER\n",
       "4        5          5           3  DISPONENT"
      ]
     },
     "execution_count": 196,
     "metadata": {},
     "output_type": "execute_result"
    }
   ],
   "source": [
    "print(str(disp.shape[0]) + \" rows and \" + str(disp.shape[1]) + \" cols\")\n",
    "disp.head()"
   ]
  },
  {
   "cell_type": "code",
   "execution_count": 197,
   "metadata": {},
   "outputs": [
    {
     "name": "stdout",
     "output_type": "stream",
     "text": [
      "<class 'pandas.core.frame.DataFrame'>\n",
      "RangeIndex: 5369 entries, 0 to 5368\n",
      "Data columns (total 4 columns):\n",
      " #   Column      Non-Null Count  Dtype \n",
      "---  ------      --------------  ----- \n",
      " 0   disp_id     5369 non-null   int64 \n",
      " 1   client_id   5369 non-null   int64 \n",
      " 2   account_id  5369 non-null   int64 \n",
      " 3   type        5369 non-null   object\n",
      "dtypes: int64(3), object(1)\n",
      "memory usage: 167.9+ KB\n"
     ]
    }
   ],
   "source": [
    "disp.info()"
   ]
  },
  {
   "cell_type": "code",
   "execution_count": 198,
   "metadata": {},
   "outputs": [
    {
     "data": {
      "image/png": "[encoded data removed]",
      "text/plain": [
       "<Figure size 640x480 with 1 Axes>"
      ]
     },
     "metadata": {},
     "output_type": "display_data"
    }
   ],
   "source": [
    "sns.countplot(x='type', data=disp)\n",
    "plt.title(\"Disposition Types\")\n",
    "plt.xlabel(\"Type\")\n",
    "plt.show()"
   ]
  },
  {
   "cell_type": "markdown",
   "metadata": {},
   "source": [
    "#### Missing Values"
   ]
  },
  {
   "cell_type": "code",
   "execution_count": 199,
   "metadata": {},
   "outputs": [
    {
     "name": "stdout",
     "output_type": "stream",
     "text": [
      "disp_id       0\n",
      "client_id     0\n",
      "account_id    0\n",
      "type          0\n",
      "dtype: int64\n",
      "\n",
      "There are 0 NA values\n"
     ]
    }
   ],
   "source": [
    "print(disp.isna().sum())\n",
    "print()\n",
    "print(\"There are \" + str((disp.isna().sum().sum())) + \" NA values\")"
   ]
  },
  {
   "cell_type": "markdown",
   "metadata": {},
   "source": [
    "#### Duplicate values"
   ]
  },
  {
   "cell_type": "code",
   "execution_count": 200,
   "metadata": {},
   "outputs": [
    {
     "name": "stdout",
     "output_type": "stream",
     "text": [
      "Dataset length: 5369\n",
      "Number of duplicates: 0\n"
     ]
    }
   ],
   "source": [
    "print(\"Dataset length: \" + str(len(disp)))\n",
    "print(\"Number of duplicates: \" + str(disp.duplicated().sum()))"
   ]
  },
  {
   "cell_type": "markdown",
   "metadata": {},
   "source": [
    "### Demographic data"
   ]
  },
  {
   "cell_type": "code",
   "execution_count": 201,
   "metadata": {},
   "outputs": [
    {
     "name": "stdout",
     "output_type": "stream",
     "text": [
      "77 rows and 16 cols\n"
     ]
    },
    {
     "data": {
      "text/html": [
       "<div>\n",
       "<style scoped>\n",
       "    .dataframe tbody tr th:only-of-type {\n",
       "        vertical-align: middle;\n",
       "    }\n",
       "\n",
       "    .dataframe tbody tr th {\n",
       "        vertical-align: top;\n",
       "    }\n",
       "\n",
       "    .dataframe thead th {\n",
       "        text-align: right;\n",
       "    }\n",
       "</style>\n",
       "<table border=\"1\" class=\"dataframe\">\n",
       "  <thead>\n",
       "    <tr style=\"text-align: right;\">\n",
       "      <th></th>\n",
       "      <th>code</th>\n",
       "      <th>name</th>\n",
       "      <th>region</th>\n",
       "      <th>no. of inhabitants</th>\n",
       "      <th>no. of municipalities with inhabitants &lt; 499</th>\n",
       "      <th>no. of municipalities with inhabitants 500-1999</th>\n",
       "      <th>no. of municipalities with inhabitants 2000-9999</th>\n",
       "      <th>no. of municipalities with inhabitants &gt;10000</th>\n",
       "      <th>no. of cities</th>\n",
       "      <th>ratio of urban inhabitants</th>\n",
       "      <th>average salary</th>\n",
       "      <th>unemploymant rate '95</th>\n",
       "      <th>unemploymant rate '96</th>\n",
       "      <th>no. of enterpreneurs per 1000 inhabitants</th>\n",
       "      <th>no. of commited crimes '95</th>\n",
       "      <th>no. of commited crimes '96</th>\n",
       "    </tr>\n",
       "  </thead>\n",
       "  <tbody>\n",
       "    <tr>\n",
       "      <th>0</th>\n",
       "      <td>1</td>\n",
       "      <td>Hl.m. Praha</td>\n",
       "      <td>Prague</td>\n",
       "      <td>1204953</td>\n",
       "      <td>0</td>\n",
       "      <td>0</td>\n",
       "      <td>0</td>\n",
       "      <td>1</td>\n",
       "      <td>1</td>\n",
       "      <td>100.0</td>\n",
       "      <td>12541</td>\n",
       "      <td>0.29</td>\n",
       "      <td>0.43</td>\n",
       "      <td>167</td>\n",
       "      <td>85677</td>\n",
       "      <td>99107</td>\n",
       "    </tr>\n",
       "    <tr>\n",
       "      <th>1</th>\n",
       "      <td>2</td>\n",
       "      <td>Benesov</td>\n",
       "      <td>central Bohemia</td>\n",
       "      <td>88884</td>\n",
       "      <td>80</td>\n",
       "      <td>26</td>\n",
       "      <td>6</td>\n",
       "      <td>2</td>\n",
       "      <td>5</td>\n",
       "      <td>46.7</td>\n",
       "      <td>8507</td>\n",
       "      <td>1.67</td>\n",
       "      <td>1.85</td>\n",
       "      <td>132</td>\n",
       "      <td>2159</td>\n",
       "      <td>2674</td>\n",
       "    </tr>\n",
       "    <tr>\n",
       "      <th>2</th>\n",
       "      <td>3</td>\n",
       "      <td>Beroun</td>\n",
       "      <td>central Bohemia</td>\n",
       "      <td>75232</td>\n",
       "      <td>55</td>\n",
       "      <td>26</td>\n",
       "      <td>4</td>\n",
       "      <td>1</td>\n",
       "      <td>5</td>\n",
       "      <td>41.7</td>\n",
       "      <td>8980</td>\n",
       "      <td>1.95</td>\n",
       "      <td>2.21</td>\n",
       "      <td>111</td>\n",
       "      <td>2824</td>\n",
       "      <td>2813</td>\n",
       "    </tr>\n",
       "    <tr>\n",
       "      <th>3</th>\n",
       "      <td>4</td>\n",
       "      <td>Kladno</td>\n",
       "      <td>central Bohemia</td>\n",
       "      <td>149893</td>\n",
       "      <td>63</td>\n",
       "      <td>29</td>\n",
       "      <td>6</td>\n",
       "      <td>2</td>\n",
       "      <td>6</td>\n",
       "      <td>67.4</td>\n",
       "      <td>9753</td>\n",
       "      <td>4.64</td>\n",
       "      <td>5.05</td>\n",
       "      <td>109</td>\n",
       "      <td>5244</td>\n",
       "      <td>5892</td>\n",
       "    </tr>\n",
       "    <tr>\n",
       "      <th>4</th>\n",
       "      <td>5</td>\n",
       "      <td>Kolin</td>\n",
       "      <td>central Bohemia</td>\n",
       "      <td>95616</td>\n",
       "      <td>65</td>\n",
       "      <td>30</td>\n",
       "      <td>4</td>\n",
       "      <td>1</td>\n",
       "      <td>6</td>\n",
       "      <td>51.4</td>\n",
       "      <td>9307</td>\n",
       "      <td>3.85</td>\n",
       "      <td>4.43</td>\n",
       "      <td>118</td>\n",
       "      <td>2616</td>\n",
       "      <td>3040</td>\n",
       "    </tr>\n",
       "  </tbody>\n",
       "</table>\n",
       "</div>"
      ],
      "text/plain": [
       "   code         name            region  no. of inhabitants  \\\n",
       "0      1  Hl.m. Praha           Prague             1204953   \n",
       "1      2      Benesov  central Bohemia               88884   \n",
       "2      3       Beroun  central Bohemia               75232   \n",
       "3      4       Kladno  central Bohemia              149893   \n",
       "4      5        Kolin  central Bohemia               95616   \n",
       "\n",
       "   no. of municipalities with inhabitants < 499   \\\n",
       "0                                              0   \n",
       "1                                             80   \n",
       "2                                             55   \n",
       "3                                             63   \n",
       "4                                             65   \n",
       "\n",
       "   no. of municipalities with inhabitants 500-1999  \\\n",
       "0                                                0   \n",
       "1                                               26   \n",
       "2                                               26   \n",
       "3                                               29   \n",
       "4                                               30   \n",
       "\n",
       "   no. of municipalities with inhabitants 2000-9999   \\\n",
       "0                                                  0   \n",
       "1                                                  6   \n",
       "2                                                  4   \n",
       "3                                                  6   \n",
       "4                                                  4   \n",
       "\n",
       "   no. of municipalities with inhabitants >10000   no. of cities   \\\n",
       "0                                               1               1   \n",
       "1                                               2               5   \n",
       "2                                               1               5   \n",
       "3                                               2               6   \n",
       "4                                               1               6   \n",
       "\n",
       "   ratio of urban inhabitants   average salary  unemploymant rate '95   \\\n",
       "0                        100.0            12541                   0.29   \n",
       "1                         46.7             8507                   1.67   \n",
       "2                         41.7             8980                   1.95   \n",
       "3                         67.4             9753                   4.64   \n",
       "4                         51.4             9307                   3.85   \n",
       "\n",
       "   unemploymant rate '96   no. of enterpreneurs per 1000 inhabitants   \\\n",
       "0                    0.43                                         167   \n",
       "1                    1.85                                         132   \n",
       "2                    2.21                                         111   \n",
       "3                    5.05                                         109   \n",
       "4                    4.43                                         118   \n",
       "\n",
       "  no. of commited crimes '95   no. of commited crimes '96   \n",
       "0                       85677                        99107  \n",
       "1                        2159                         2674  \n",
       "2                        2824                         2813  \n",
       "3                        5244                         5892  \n",
       "4                        2616                         3040  "
      ]
     },
     "execution_count": 201,
     "metadata": {},
     "output_type": "execute_result"
    }
   ],
   "source": [
    "print(str(district.shape[0]) + \" rows and \" + str(district.shape[1]) + \" cols\")\n",
    "district.head()"
   ]
  },
  {
   "cell_type": "code",
   "execution_count": 202,
   "metadata": {},
   "outputs": [
    {
     "name": "stdout",
     "output_type": "stream",
     "text": [
      "<class 'pandas.core.frame.DataFrame'>\n",
      "RangeIndex: 77 entries, 0 to 76\n",
      "Data columns (total 16 columns):\n",
      " #   Column                                             Non-Null Count  Dtype  \n",
      "---  ------                                             --------------  -----  \n",
      " 0   code                                               77 non-null     int64  \n",
      " 1   name                                               77 non-null     object \n",
      " 2   region                                             77 non-null     object \n",
      " 3   no. of inhabitants                                 77 non-null     int64  \n",
      " 4   no. of municipalities with inhabitants < 499       77 non-null     int64  \n",
      " 5   no. of municipalities with inhabitants 500-1999    77 non-null     int64  \n",
      " 6   no. of municipalities with inhabitants 2000-9999   77 non-null     int64  \n",
      " 7   no. of municipalities with inhabitants >10000      77 non-null     int64  \n",
      " 8   no. of cities                                      77 non-null     int64  \n",
      " 9   ratio of urban inhabitants                         77 non-null     float64\n",
      " 10  average salary                                     77 non-null     int64  \n",
      " 11  unemploymant rate '95                              77 non-null     object \n",
      " 12  unemploymant rate '96                              77 non-null     float64\n",
      " 13  no. of enterpreneurs per 1000 inhabitants          77 non-null     int64  \n",
      " 14  no. of commited crimes '95                         77 non-null     object \n",
      " 15  no. of commited crimes '96                         77 non-null     int64  \n",
      "dtypes: float64(2), int64(10), object(4)\n",
      "memory usage: 9.8+ KB\n"
     ]
    }
   ],
   "source": [
    "district.info()\n",
    "#print(district.columns)"
   ]
  },
  {
   "cell_type": "code",
   "execution_count": 207,
   "metadata": {},
   "outputs": [
    {
     "data": {
      "image/png": "[encoded data removed]",
      "text/plain": [
       "<Figure size 640x480 with 1 Axes>"
      ]
     },
     "metadata": {},
     "output_type": "display_data"
    }
   ],
   "source": [
    "average_salary = district.groupby('region')['average salary '].mean()\n",
    "average_salary.plot(kind='bar')\n",
    "plt.title('Average Salary by Region')\n",
    "plt.xlabel('Region')\n",
    "plt.ylabel('Average Salary')\n",
    "plt.show()"
   ]
  },
  {
   "cell_type": "code",
   "execution_count": null,
   "metadata": {},
   "outputs": [
    {
     "data": {
      "image/png": "[encoded data removed]",
      "text/plain": [
       "<Figure size 640x480 with 1 Axes>"
      ]
     },
     "metadata": {},
     "output_type": "display_data"
    }
   ],
   "source": [
    "inhabitants_per_region = district.groupby('region')['no._of_inhabitants'].sum()\n",
    "inhabitants_per_region.plot(kind='bar')\n",
    "plt.title('Number of Inhabitants per Region')\n",
    "plt.xlabel('Region')\n",
    "plt.ylabel('Number of Inhabitants')\n",
    "plt.show()\n"
   ]
  },
  {
   "cell_type": "code",
   "execution_count": null,
   "metadata": {},
   "outputs": [
    {
     "data": {
      "text/html": [
       "<div>\n",
       "<style scoped>\n",
       "    .dataframe tbody tr th:only-of-type {\n",
       "        vertical-align: middle;\n",
       "    }\n",
       "\n",
       "    .dataframe tbody tr th {\n",
       "        vertical-align: top;\n",
       "    }\n",
       "\n",
       "    .dataframe thead th {\n",
       "        text-align: right;\n",
       "    }\n",
       "</style>\n",
       "<table border=\"1\" class=\"dataframe\">\n",
       "  <thead>\n",
       "    <tr style=\"text-align: right;\">\n",
       "      <th></th>\n",
       "      <th>code</th>\n",
       "      <th>no. of inhabitants</th>\n",
       "      <th>no. of municipalities with inhabitants &lt; 499</th>\n",
       "      <th>no. of municipalities with inhabitants 500-1999</th>\n",
       "      <th>no. of municipalities with inhabitants 2000-9999</th>\n",
       "      <th>no. of municipalities with inhabitants &gt;10000</th>\n",
       "      <th>no. of cities</th>\n",
       "      <th>ratio of urban inhabitants</th>\n",
       "      <th>average salary</th>\n",
       "      <th>unemploymant rate '96</th>\n",
       "      <th>no. of enterpreneurs per 1000 inhabitants</th>\n",
       "      <th>no. of commited crimes '96</th>\n",
       "    </tr>\n",
       "  </thead>\n",
       "  <tbody>\n",
       "    <tr>\n",
       "      <th>count</th>\n",
       "      <td>77.000000</td>\n",
       "      <td>7.700000e+01</td>\n",
       "      <td>77.000000</td>\n",
       "      <td>77.000000</td>\n",
       "      <td>77.000000</td>\n",
       "      <td>77.000000</td>\n",
       "      <td>77.000000</td>\n",
       "      <td>77.000000</td>\n",
       "      <td>77.000000</td>\n",
       "      <td>77.000000</td>\n",
       "      <td>77.000000</td>\n",
       "      <td>77.000000</td>\n",
       "    </tr>\n",
       "    <tr>\n",
       "      <th>mean</th>\n",
       "      <td>39.000000</td>\n",
       "      <td>1.338849e+05</td>\n",
       "      <td>48.623377</td>\n",
       "      <td>24.324675</td>\n",
       "      <td>6.272727</td>\n",
       "      <td>1.727273</td>\n",
       "      <td>6.259740</td>\n",
       "      <td>63.035065</td>\n",
       "      <td>9031.675325</td>\n",
       "      <td>3.787013</td>\n",
       "      <td>116.129870</td>\n",
       "      <td>5030.831169</td>\n",
       "    </tr>\n",
       "    <tr>\n",
       "      <th>std</th>\n",
       "      <td>22.371857</td>\n",
       "      <td>1.369135e+05</td>\n",
       "      <td>32.741829</td>\n",
       "      <td>12.780991</td>\n",
       "      <td>4.015222</td>\n",
       "      <td>1.008338</td>\n",
       "      <td>2.435497</td>\n",
       "      <td>16.221727</td>\n",
       "      <td>790.202347</td>\n",
       "      <td>1.908480</td>\n",
       "      <td>16.608773</td>\n",
       "      <td>11270.796786</td>\n",
       "    </tr>\n",
       "    <tr>\n",
       "      <th>min</th>\n",
       "      <td>1.000000</td>\n",
       "      <td>4.282100e+04</td>\n",
       "      <td>0.000000</td>\n",
       "      <td>0.000000</td>\n",
       "      <td>0.000000</td>\n",
       "      <td>0.000000</td>\n",
       "      <td>1.000000</td>\n",
       "      <td>33.900000</td>\n",
       "      <td>8110.000000</td>\n",
       "      <td>0.430000</td>\n",
       "      <td>81.000000</td>\n",
       "      <td>888.000000</td>\n",
       "    </tr>\n",
       "    <tr>\n",
       "      <th>25%</th>\n",
       "      <td>20.000000</td>\n",
       "      <td>8.585200e+04</td>\n",
       "      <td>22.000000</td>\n",
       "      <td>16.000000</td>\n",
       "      <td>4.000000</td>\n",
       "      <td>1.000000</td>\n",
       "      <td>5.000000</td>\n",
       "      <td>51.900000</td>\n",
       "      <td>8512.000000</td>\n",
       "      <td>2.310000</td>\n",
       "      <td>105.000000</td>\n",
       "      <td>2122.000000</td>\n",
       "    </tr>\n",
       "    <tr>\n",
       "      <th>50%</th>\n",
       "      <td>39.000000</td>\n",
       "      <td>1.088710e+05</td>\n",
       "      <td>49.000000</td>\n",
       "      <td>25.000000</td>\n",
       "      <td>6.000000</td>\n",
       "      <td>2.000000</td>\n",
       "      <td>6.000000</td>\n",
       "      <td>59.800000</td>\n",
       "      <td>8814.000000</td>\n",
       "      <td>3.600000</td>\n",
       "      <td>113.000000</td>\n",
       "      <td>3040.000000</td>\n",
       "    </tr>\n",
       "    <tr>\n",
       "      <th>75%</th>\n",
       "      <td>58.000000</td>\n",
       "      <td>1.390120e+05</td>\n",
       "      <td>71.000000</td>\n",
       "      <td>32.000000</td>\n",
       "      <td>8.000000</td>\n",
       "      <td>2.000000</td>\n",
       "      <td>8.000000</td>\n",
       "      <td>73.500000</td>\n",
       "      <td>9317.000000</td>\n",
       "      <td>4.790000</td>\n",
       "      <td>126.000000</td>\n",
       "      <td>4595.000000</td>\n",
       "    </tr>\n",
       "    <tr>\n",
       "      <th>max</th>\n",
       "      <td>77.000000</td>\n",
       "      <td>1.204953e+06</td>\n",
       "      <td>151.000000</td>\n",
       "      <td>70.000000</td>\n",
       "      <td>20.000000</td>\n",
       "      <td>5.000000</td>\n",
       "      <td>11.000000</td>\n",
       "      <td>100.000000</td>\n",
       "      <td>12541.000000</td>\n",
       "      <td>9.400000</td>\n",
       "      <td>167.000000</td>\n",
       "      <td>99107.000000</td>\n",
       "    </tr>\n",
       "  </tbody>\n",
       "</table>\n",
       "</div>"
      ],
      "text/plain": [
       "           code   no. of inhabitants   \n",
       "count  77.000000        7.700000e+01  \\\n",
       "mean   39.000000        1.338849e+05   \n",
       "std    22.371857        1.369135e+05   \n",
       "min     1.000000        4.282100e+04   \n",
       "25%    20.000000        8.585200e+04   \n",
       "50%    39.000000        1.088710e+05   \n",
       "75%    58.000000        1.390120e+05   \n",
       "max    77.000000        1.204953e+06   \n",
       "\n",
       "       no. of municipalities with inhabitants < 499    \n",
       "count                                      77.000000  \\\n",
       "mean                                       48.623377   \n",
       "std                                        32.741829   \n",
       "min                                         0.000000   \n",
       "25%                                        22.000000   \n",
       "50%                                        49.000000   \n",
       "75%                                        71.000000   \n",
       "max                                       151.000000   \n",
       "\n",
       "       no. of municipalities with inhabitants 500-1999   \n",
       "count                                        77.000000  \\\n",
       "mean                                         24.324675   \n",
       "std                                          12.780991   \n",
       "min                                           0.000000   \n",
       "25%                                          16.000000   \n",
       "50%                                          25.000000   \n",
       "75%                                          32.000000   \n",
       "max                                          70.000000   \n",
       "\n",
       "       no. of municipalities with inhabitants 2000-9999    \n",
       "count                                          77.000000  \\\n",
       "mean                                            6.272727   \n",
       "std                                             4.015222   \n",
       "min                                             0.000000   \n",
       "25%                                             4.000000   \n",
       "50%                                             6.000000   \n",
       "75%                                             8.000000   \n",
       "max                                            20.000000   \n",
       "\n",
       "       no. of municipalities with inhabitants >10000   no. of cities    \n",
       "count                                       77.000000       77.000000  \\\n",
       "mean                                         1.727273        6.259740   \n",
       "std                                          1.008338        2.435497   \n",
       "min                                          0.000000        1.000000   \n",
       "25%                                          1.000000        5.000000   \n",
       "50%                                          2.000000        6.000000   \n",
       "75%                                          2.000000        8.000000   \n",
       "max                                          5.000000       11.000000   \n",
       "\n",
       "       ratio of urban inhabitants   average salary   unemploymant rate '96    \n",
       "count                    77.000000        77.000000               77.000000  \\\n",
       "mean                     63.035065      9031.675325                3.787013   \n",
       "std                      16.221727       790.202347                1.908480   \n",
       "min                      33.900000      8110.000000                0.430000   \n",
       "25%                      51.900000      8512.000000                2.310000   \n",
       "50%                      59.800000      8814.000000                3.600000   \n",
       "75%                      73.500000      9317.000000                4.790000   \n",
       "max                     100.000000     12541.000000                9.400000   \n",
       "\n",
       "       no. of enterpreneurs per 1000 inhabitants   no. of commited crimes '96   \n",
       "count                                   77.000000                    77.000000  \n",
       "mean                                   116.129870                  5030.831169  \n",
       "std                                     16.608773                 11270.796786  \n",
       "min                                     81.000000                   888.000000  \n",
       "25%                                    105.000000                  2122.000000  \n",
       "50%                                    113.000000                  3040.000000  \n",
       "75%                                    126.000000                  4595.000000  \n",
       "max                                    167.000000                 99107.000000  "
      ]
     },
     "execution_count": 6,
     "metadata": {},
     "output_type": "execute_result"
    }
   ],
   "source": [
    "district.describe()"
   ]
  },
  {
   "cell_type": "markdown",
   "metadata": {},
   "source": [
    "#### Missing Values"
   ]
  },
  {
   "cell_type": "code",
   "execution_count": null,
   "metadata": {},
   "outputs": [
    {
     "name": "stdout",
     "output_type": "stream",
     "text": [
      "code_                                                0\n",
      "name_                                                0\n",
      "region                                               0\n",
      "no._of_inhabitants                                   0\n",
      "no._of_municipalities_with_inhabitants_<_499_        0\n",
      "no._of_municipalities_with_inhabitants_500-1999      0\n",
      "no._of_municipalities_with_inhabitants_2000-9999_    0\n",
      "no._of_municipalities_with_inhabitants_>10000_       0\n",
      "no._of_cities_                                       0\n",
      "ratio_of_urban_inhabitants_                          0\n",
      "average_salary_                                      0\n",
      "unemploymant_rate_'95_                               0\n",
      "unemploymant_rate_'96_                               0\n",
      "no._of_enterpreneurs_per_1000_inhabitants_           0\n",
      "no._of_commited_crimes_'95_                          0\n",
      "no._of_commited_crimes_'96_                          0\n",
      "dtype: int64\n",
      "\n",
      "There are 0 NA values\n"
     ]
    }
   ],
   "source": [
    "print(district.isna().sum())\n",
    "print()\n",
    "print(\"There are \" + str((district.isna().sum().sum())) + \" NA values\")"
   ]
  },
  {
   "cell_type": "markdown",
   "metadata": {},
   "source": [
    "#### Duplicate values"
   ]
  },
  {
   "cell_type": "code",
   "execution_count": null,
   "metadata": {},
   "outputs": [
    {
     "name": "stdout",
     "output_type": "stream",
     "text": [
      "Dataset length: 77\n",
      "Number of duplicates: 0\n"
     ]
    }
   ],
   "source": [
    "print(\"Dataset length: \" + str(len(district)))\n",
    "print(\"Number of duplicates: \" + str(district.duplicated().sum()))"
   ]
  },
  {
   "cell_type": "markdown",
   "metadata": {},
   "source": [
    "### Loan"
   ]
  },
  {
   "cell_type": "code",
   "execution_count": null,
   "metadata": {},
   "outputs": [
    {
     "name": "stdout",
     "output_type": "stream",
     "text": [
      "328 rows and 7 cols\n"
     ]
    },
    {
     "data": {
      "text/html": [
       "<div>\n",
       "<style scoped>\n",
       "    .dataframe tbody tr th:only-of-type {\n",
       "        vertical-align: middle;\n",
       "    }\n",
       "\n",
       "    .dataframe tbody tr th {\n",
       "        vertical-align: top;\n",
       "    }\n",
       "\n",
       "    .dataframe thead th {\n",
       "        text-align: right;\n",
       "    }\n",
       "</style>\n",
       "<table border=\"1\" class=\"dataframe\">\n",
       "  <thead>\n",
       "    <tr style=\"text-align: right;\">\n",
       "      <th></th>\n",
       "      <th>loan_id</th>\n",
       "      <th>account_id</th>\n",
       "      <th>date</th>\n",
       "      <th>amount</th>\n",
       "      <th>duration</th>\n",
       "      <th>payments</th>\n",
       "      <th>status</th>\n",
       "    </tr>\n",
       "  </thead>\n",
       "  <tbody>\n",
       "    <tr>\n",
       "      <th>0</th>\n",
       "      <td>5314</td>\n",
       "      <td>1787</td>\n",
       "      <td>930705</td>\n",
       "      <td>96396</td>\n",
       "      <td>12</td>\n",
       "      <td>8033</td>\n",
       "      <td>-1</td>\n",
       "    </tr>\n",
       "    <tr>\n",
       "      <th>1</th>\n",
       "      <td>5316</td>\n",
       "      <td>1801</td>\n",
       "      <td>930711</td>\n",
       "      <td>165960</td>\n",
       "      <td>36</td>\n",
       "      <td>4610</td>\n",
       "      <td>1</td>\n",
       "    </tr>\n",
       "    <tr>\n",
       "      <th>2</th>\n",
       "      <td>6863</td>\n",
       "      <td>9188</td>\n",
       "      <td>930728</td>\n",
       "      <td>127080</td>\n",
       "      <td>60</td>\n",
       "      <td>2118</td>\n",
       "      <td>1</td>\n",
       "    </tr>\n",
       "    <tr>\n",
       "      <th>3</th>\n",
       "      <td>5325</td>\n",
       "      <td>1843</td>\n",
       "      <td>930803</td>\n",
       "      <td>105804</td>\n",
       "      <td>36</td>\n",
       "      <td>2939</td>\n",
       "      <td>1</td>\n",
       "    </tr>\n",
       "    <tr>\n",
       "      <th>4</th>\n",
       "      <td>7240</td>\n",
       "      <td>11013</td>\n",
       "      <td>930906</td>\n",
       "      <td>274740</td>\n",
       "      <td>60</td>\n",
       "      <td>4579</td>\n",
       "      <td>1</td>\n",
       "    </tr>\n",
       "  </tbody>\n",
       "</table>\n",
       "</div>"
      ],
      "text/plain": [
       "   loan_id  account_id    date  amount  duration  payments  status\n",
       "0     5314        1787  930705   96396        12      8033      -1\n",
       "1     5316        1801  930711  165960        36      4610       1\n",
       "2     6863        9188  930728  127080        60      2118       1\n",
       "3     5325        1843  930803  105804        36      2939       1\n",
       "4     7240       11013  930906  274740        60      4579       1"
      ]
     },
     "execution_count": 53,
     "metadata": {},
     "output_type": "execute_result"
    }
   ],
   "source": [
    "print(str(loan_dev.shape[0]) + \" rows and \" + str(loan_dev.shape[1]) + \" cols\")\n",
    "loan_dev.head()"
   ]
  },
  {
   "cell_type": "code",
   "execution_count": null,
   "metadata": {},
   "outputs": [
    {
     "name": "stdout",
     "output_type": "stream",
     "text": [
      "<class 'pandas.core.frame.DataFrame'>\n",
      "RangeIndex: 328 entries, 0 to 327\n",
      "Data columns (total 7 columns):\n",
      " #   Column      Non-Null Count  Dtype\n",
      "---  ------      --------------  -----\n",
      " 0   loan_id     328 non-null    int64\n",
      " 1   account_id  328 non-null    int64\n",
      " 2   date        328 non-null    int64\n",
      " 3   amount      328 non-null    int64\n",
      " 4   duration    328 non-null    int64\n",
      " 5   payments    328 non-null    int64\n",
      " 6   status      328 non-null    int64\n",
      "dtypes: int64(7)\n",
      "memory usage: 18.1 KB\n"
     ]
    }
   ],
   "source": [
    "loan_dev.info()\n",
    "#print(loan_dev.columns)"
   ]
  },
  {
   "cell_type": "code",
   "execution_count": null,
   "metadata": {},
   "outputs": [
    {
     "data": {
      "image/png": "[encoded data removed]",
      "text/plain": [
       "<Figure size 640x480 with 1 Axes>"
      ]
     },
     "metadata": {},
     "output_type": "display_data"
    }
   ],
   "source": [
    "loan_dev['date'] = pd.to_datetime(loan_dev['date'], format='%y%m%d')\n",
    "sns.histplot(loan_dev['date'], bins=20, kde=True)\n",
    "plt.xlabel('Loan Creation Date')\n",
    "plt.title('Distribution of Loan Creation Dates')\n",
    "plt.show()"
   ]
  },
  {
   "cell_type": "code",
   "execution_count": null,
   "metadata": {},
   "outputs": [
    {
     "data": {
      "image/png": "[encoded data removed]",
      "text/plain": [
       "<Figure size 640x480 with 1 Axes>"
      ]
     },
     "metadata": {},
     "output_type": "display_data"
    }
   ],
   "source": [
    "sns.countplot(x='status', data=loan_dev)\n",
    "plt.title(\"Loan Status\")\n",
    "plt.xlabel(\"Status\")\n",
    "plt.show()"
   ]
  },
  {
   "cell_type": "code",
   "execution_count": null,
   "metadata": {},
   "outputs": [
    {
     "data": {
      "text/html": [
       "<div>\n",
       "<style scoped>\n",
       "    .dataframe tbody tr th:only-of-type {\n",
       "        vertical-align: middle;\n",
       "    }\n",
       "\n",
       "    .dataframe tbody tr th {\n",
       "        vertical-align: top;\n",
       "    }\n",
       "\n",
       "    .dataframe thead th {\n",
       "        text-align: right;\n",
       "    }\n",
       "</style>\n",
       "<table border=\"1\" class=\"dataframe\">\n",
       "  <thead>\n",
       "    <tr style=\"text-align: right;\">\n",
       "      <th></th>\n",
       "      <th>loan_id</th>\n",
       "      <th>account_id</th>\n",
       "      <th>date</th>\n",
       "      <th>amount</th>\n",
       "      <th>duration</th>\n",
       "      <th>payments</th>\n",
       "      <th>status</th>\n",
       "    </tr>\n",
       "  </thead>\n",
       "  <tbody>\n",
       "    <tr>\n",
       "      <th>count</th>\n",
       "      <td>328.000000</td>\n",
       "      <td>328.000000</td>\n",
       "      <td>328.000000</td>\n",
       "      <td>328.000000</td>\n",
       "      <td>328.000000</td>\n",
       "      <td>328.000000</td>\n",
       "      <td>328.000000</td>\n",
       "    </tr>\n",
       "    <tr>\n",
       "      <th>mean</th>\n",
       "      <td>6205.658537</td>\n",
       "      <td>5982.085366</td>\n",
       "      <td>949989.125000</td>\n",
       "      <td>145308.621951</td>\n",
       "      <td>35.853659</td>\n",
       "      <td>4150.932927</td>\n",
       "      <td>0.719512</td>\n",
       "    </tr>\n",
       "    <tr>\n",
       "      <th>std</th>\n",
       "      <td>667.985675</td>\n",
       "      <td>3213.262492</td>\n",
       "      <td>9495.504646</td>\n",
       "      <td>105247.318098</td>\n",
       "      <td>16.734752</td>\n",
       "      <td>2193.620989</td>\n",
       "      <td>0.695541</td>\n",
       "    </tr>\n",
       "    <tr>\n",
       "      <th>min</th>\n",
       "      <td>4959.000000</td>\n",
       "      <td>2.000000</td>\n",
       "      <td>930705.000000</td>\n",
       "      <td>4980.000000</td>\n",
       "      <td>12.000000</td>\n",
       "      <td>319.000000</td>\n",
       "      <td>-1.000000</td>\n",
       "    </tr>\n",
       "    <tr>\n",
       "      <th>25%</th>\n",
       "      <td>5604.250000</td>\n",
       "      <td>3079.000000</td>\n",
       "      <td>940809.250000</td>\n",
       "      <td>68328.000000</td>\n",
       "      <td>24.000000</td>\n",
       "      <td>2368.750000</td>\n",
       "      <td>1.000000</td>\n",
       "    </tr>\n",
       "    <tr>\n",
       "      <th>50%</th>\n",
       "      <td>6227.500000</td>\n",
       "      <td>6032.000000</td>\n",
       "      <td>950565.500000</td>\n",
       "      <td>114804.000000</td>\n",
       "      <td>36.000000</td>\n",
       "      <td>3878.500000</td>\n",
       "      <td>1.000000</td>\n",
       "    </tr>\n",
       "    <tr>\n",
       "      <th>75%</th>\n",
       "      <td>6737.250000</td>\n",
       "      <td>8564.500000</td>\n",
       "      <td>960525.250000</td>\n",
       "      <td>198600.000000</td>\n",
       "      <td>48.000000</td>\n",
       "      <td>5907.750000</td>\n",
       "      <td>1.000000</td>\n",
       "    </tr>\n",
       "    <tr>\n",
       "      <th>max</th>\n",
       "      <td>7308.000000</td>\n",
       "      <td>11362.000000</td>\n",
       "      <td>961227.000000</td>\n",
       "      <td>538500.000000</td>\n",
       "      <td>60.000000</td>\n",
       "      <td>9689.000000</td>\n",
       "      <td>1.000000</td>\n",
       "    </tr>\n",
       "  </tbody>\n",
       "</table>\n",
       "</div>"
      ],
      "text/plain": [
       "           loan_id    account_id           date         amount    duration   \n",
       "count   328.000000    328.000000     328.000000     328.000000  328.000000  \\\n",
       "mean   6205.658537   5982.085366  949989.125000  145308.621951   35.853659   \n",
       "std     667.985675   3213.262492    9495.504646  105247.318098   16.734752   \n",
       "min    4959.000000      2.000000  930705.000000    4980.000000   12.000000   \n",
       "25%    5604.250000   3079.000000  940809.250000   68328.000000   24.000000   \n",
       "50%    6227.500000   6032.000000  950565.500000  114804.000000   36.000000   \n",
       "75%    6737.250000   8564.500000  960525.250000  198600.000000   48.000000   \n",
       "max    7308.000000  11362.000000  961227.000000  538500.000000   60.000000   \n",
       "\n",
       "          payments      status  \n",
       "count   328.000000  328.000000  \n",
       "mean   4150.932927    0.719512  \n",
       "std    2193.620989    0.695541  \n",
       "min     319.000000   -1.000000  \n",
       "25%    2368.750000    1.000000  \n",
       "50%    3878.500000    1.000000  \n",
       "75%    5907.750000    1.000000  \n",
       "max    9689.000000    1.000000  "
      ]
     },
     "execution_count": 9,
     "metadata": {},
     "output_type": "execute_result"
    }
   ],
   "source": [
    "loan_dev.describe()"
   ]
  },
  {
   "cell_type": "markdown",
   "metadata": {},
   "source": [
    "#### Missing Values"
   ]
  },
  {
   "cell_type": "code",
   "execution_count": null,
   "metadata": {},
   "outputs": [
    {
     "name": "stdout",
     "output_type": "stream",
     "text": [
      "loan_id       0\n",
      "account_id    0\n",
      "date          0\n",
      "amount        0\n",
      "duration      0\n",
      "payments      0\n",
      "status        0\n",
      "dtype: int64\n",
      "\n",
      "There are 0 NA values\n"
     ]
    }
   ],
   "source": [
    "print(loan_dev.isna().sum())\n",
    "print()\n",
    "print(\"There are \" + str((loan_dev.isna().sum().sum())) + \" NA values\")"
   ]
  },
  {
   "cell_type": "markdown",
   "metadata": {},
   "source": [
    "#### Duplicate values"
   ]
  },
  {
   "cell_type": "code",
   "execution_count": null,
   "metadata": {},
   "outputs": [
    {
     "name": "stdout",
     "output_type": "stream",
     "text": [
      "Dataset length: 328\n",
      "Number of duplicates: 0\n"
     ]
    }
   ],
   "source": [
    "print(\"Dataset length: \" + str(len(loan_dev)))\n",
    "print(\"Number of duplicates: \" + str(loan_dev.duplicated().sum()))"
   ]
  },
  {
   "cell_type": "markdown",
   "metadata": {},
   "source": [
    "### Transaction"
   ]
  },
  {
   "cell_type": "code",
   "execution_count": null,
   "metadata": {},
   "outputs": [
    {
     "name": "stdout",
     "output_type": "stream",
     "text": [
      "396685 rows and 10 cols\n"
     ]
    },
    {
     "data": {
      "text/html": [
       "<div>\n",
       "<style scoped>\n",
       "    .dataframe tbody tr th:only-of-type {\n",
       "        vertical-align: middle;\n",
       "    }\n",
       "\n",
       "    .dataframe tbody tr th {\n",
       "        vertical-align: top;\n",
       "    }\n",
       "\n",
       "    .dataframe thead th {\n",
       "        text-align: right;\n",
       "    }\n",
       "</style>\n",
       "<table border=\"1\" class=\"dataframe\">\n",
       "  <thead>\n",
       "    <tr style=\"text-align: right;\">\n",
       "      <th></th>\n",
       "      <th>trans_id</th>\n",
       "      <th>account_id</th>\n",
       "      <th>date</th>\n",
       "      <th>type</th>\n",
       "      <th>operation</th>\n",
       "      <th>amount</th>\n",
       "      <th>balance</th>\n",
       "      <th>k_symbol</th>\n",
       "      <th>bank</th>\n",
       "      <th>account</th>\n",
       "    </tr>\n",
       "  </thead>\n",
       "  <tbody>\n",
       "    <tr>\n",
       "      <th>0</th>\n",
       "      <td>1548749</td>\n",
       "      <td>5270</td>\n",
       "      <td>930113</td>\n",
       "      <td>credit</td>\n",
       "      <td>credit in cash</td>\n",
       "      <td>800.0</td>\n",
       "      <td>800.0</td>\n",
       "      <td>NaN</td>\n",
       "      <td>NaN</td>\n",
       "      <td>NaN</td>\n",
       "    </tr>\n",
       "    <tr>\n",
       "      <th>1</th>\n",
       "      <td>1548750</td>\n",
       "      <td>5270</td>\n",
       "      <td>930114</td>\n",
       "      <td>credit</td>\n",
       "      <td>collection from another bank</td>\n",
       "      <td>44749.0</td>\n",
       "      <td>45549.0</td>\n",
       "      <td>NaN</td>\n",
       "      <td>IJ</td>\n",
       "      <td>80269753.0</td>\n",
       "    </tr>\n",
       "    <tr>\n",
       "      <th>2</th>\n",
       "      <td>3393738</td>\n",
       "      <td>11265</td>\n",
       "      <td>930114</td>\n",
       "      <td>credit</td>\n",
       "      <td>credit in cash</td>\n",
       "      <td>1000.0</td>\n",
       "      <td>1000.0</td>\n",
       "      <td>NaN</td>\n",
       "      <td>NaN</td>\n",
       "      <td>NaN</td>\n",
       "    </tr>\n",
       "    <tr>\n",
       "      <th>3</th>\n",
       "      <td>3122924</td>\n",
       "      <td>10364</td>\n",
       "      <td>930117</td>\n",
       "      <td>credit</td>\n",
       "      <td>credit in cash</td>\n",
       "      <td>1100.0</td>\n",
       "      <td>1100.0</td>\n",
       "      <td>NaN</td>\n",
       "      <td>NaN</td>\n",
       "      <td>NaN</td>\n",
       "    </tr>\n",
       "    <tr>\n",
       "      <th>4</th>\n",
       "      <td>1121963</td>\n",
       "      <td>3834</td>\n",
       "      <td>930119</td>\n",
       "      <td>credit</td>\n",
       "      <td>credit in cash</td>\n",
       "      <td>700.0</td>\n",
       "      <td>700.0</td>\n",
       "      <td>NaN</td>\n",
       "      <td>NaN</td>\n",
       "      <td>NaN</td>\n",
       "    </tr>\n",
       "  </tbody>\n",
       "</table>\n",
       "</div>"
      ],
      "text/plain": [
       "   trans_id  account_id    date    type                     operation  \\\n",
       "0   1548749        5270  930113  credit                credit in cash   \n",
       "1   1548750        5270  930114  credit  collection from another bank   \n",
       "2   3393738       11265  930114  credit                credit in cash   \n",
       "3   3122924       10364  930117  credit                credit in cash   \n",
       "4   1121963        3834  930119  credit                credit in cash   \n",
       "\n",
       "    amount  balance k_symbol bank     account  \n",
       "0    800.0    800.0      NaN  NaN         NaN  \n",
       "1  44749.0  45549.0      NaN   IJ  80269753.0  \n",
       "2   1000.0   1000.0      NaN  NaN         NaN  \n",
       "3   1100.0   1100.0      NaN  NaN         NaN  \n",
       "4    700.0    700.0      NaN  NaN         NaN  "
      ]
     },
     "execution_count": 59,
     "metadata": {},
     "output_type": "execute_result"
    }
   ],
   "source": [
    "print(str(trans_dev.shape[0]) + \" rows and \" + str(trans_dev.shape[1]) + \" cols\")\n",
    "trans_dev.head()"
   ]
  },
  {
   "cell_type": "code",
   "execution_count": null,
   "metadata": {},
   "outputs": [
    {
     "name": "stdout",
     "output_type": "stream",
     "text": [
      "<class 'pandas.core.frame.DataFrame'>\n",
      "RangeIndex: 396685 entries, 0 to 396684\n",
      "Data columns (total 10 columns):\n",
      " #   Column      Non-Null Count   Dtype  \n",
      "---  ------      --------------   -----  \n",
      " 0   trans_id    396685 non-null  int64  \n",
      " 1   account_id  396685 non-null  int64  \n",
      " 2   date        396685 non-null  int64  \n",
      " 3   type        396685 non-null  object \n",
      " 4   operation   325924 non-null  object \n",
      " 5   amount      396685 non-null  float64\n",
      " 6   balance     396685 non-null  float64\n",
      " 7   k_symbol    211441 non-null  object \n",
      " 8   bank        97242 non-null   object \n",
      " 9   account     102229 non-null  float64\n",
      "dtypes: float64(3), int64(3), object(4)\n",
      "memory usage: 30.3+ MB\n"
     ]
    }
   ],
   "source": [
    "trans_dev.info()\n",
    "#print(trans_dev.columns)"
   ]
  },
  {
   "cell_type": "code",
   "execution_count": null,
   "metadata": {},
   "outputs": [
    {
     "data": {
      "image/png": "[encoded data removed]",
      "text/plain": [
       "<Figure size 640x480 with 1 Axes>"
      ]
     },
     "metadata": {},
     "output_type": "display_data"
    }
   ],
   "source": [
    "sns.countplot(x=\"type\", data=trans_dev)\n",
    "plt.title(\"Transaction Types\")\n",
    "plt.xlabel(\"Type\")\n",
    "plt.show()"
   ]
  },
  {
   "cell_type": "code",
   "execution_count": null,
   "metadata": {},
   "outputs": [
    {
     "data": {
      "image/png": "[encoded data removed]",
      "text/plain": [
       "<Figure size 640x480 with 1 Axes>"
      ]
     },
     "metadata": {},
     "output_type": "display_data"
    }
   ],
   "source": [
    "trans_dev['date']=pd.to_datetime(trans_dev['date'], format='%y%m%d')\n",
    "sns.histplot(trans_dev['date'], bins=20, kde=True)\n",
    "plt.xlabel('Transaction Date')\n",
    "plt.title('Distribution of Transaction Dates')\n",
    "plt.show()"
   ]
  },
  {
   "cell_type": "code",
   "execution_count": null,
   "metadata": {},
   "outputs": [
    {
     "data": {
      "text/html": [
       "<div>\n",
       "<style scoped>\n",
       "    .dataframe tbody tr th:only-of-type {\n",
       "        vertical-align: middle;\n",
       "    }\n",
       "\n",
       "    .dataframe tbody tr th {\n",
       "        vertical-align: top;\n",
       "    }\n",
       "\n",
       "    .dataframe thead th {\n",
       "        text-align: right;\n",
       "    }\n",
       "</style>\n",
       "<table border=\"1\" class=\"dataframe\">\n",
       "  <thead>\n",
       "    <tr style=\"text-align: right;\">\n",
       "      <th></th>\n",
       "      <th>trans_id</th>\n",
       "      <th>account_id</th>\n",
       "      <th>date</th>\n",
       "      <th>amount</th>\n",
       "      <th>balance</th>\n",
       "      <th>account</th>\n",
       "    </tr>\n",
       "  </thead>\n",
       "  <tbody>\n",
       "    <tr>\n",
       "      <th>count</th>\n",
       "      <td>3.966850e+05</td>\n",
       "      <td>396685.000000</td>\n",
       "      <td>396685.000000</td>\n",
       "      <td>396685.000000</td>\n",
       "      <td>396685.000000</td>\n",
       "      <td>1.022290e+05</td>\n",
       "    </tr>\n",
       "    <tr>\n",
       "      <th>mean</th>\n",
       "      <td>1.239338e+06</td>\n",
       "      <td>2508.434796</td>\n",
       "      <td>951310.066801</td>\n",
       "      <td>5677.552980</td>\n",
       "      <td>35804.792507</td>\n",
       "      <td>4.664229e+07</td>\n",
       "    </tr>\n",
       "    <tr>\n",
       "      <th>std</th>\n",
       "      <td>1.213288e+06</td>\n",
       "      <td>2020.928889</td>\n",
       "      <td>9510.974536</td>\n",
       "      <td>9190.364137</td>\n",
       "      <td>19692.148243</td>\n",
       "      <td>3.002136e+07</td>\n",
       "    </tr>\n",
       "    <tr>\n",
       "      <th>min</th>\n",
       "      <td>1.000000e+00</td>\n",
       "      <td>1.000000</td>\n",
       "      <td>930101.000000</td>\n",
       "      <td>0.000000</td>\n",
       "      <td>-13588.700000</td>\n",
       "      <td>0.000000e+00</td>\n",
       "    </tr>\n",
       "    <tr>\n",
       "      <th>25%</th>\n",
       "      <td>3.918330e+05</td>\n",
       "      <td>1092.000000</td>\n",
       "      <td>941110.000000</td>\n",
       "      <td>127.500000</td>\n",
       "      <td>22424.300000</td>\n",
       "      <td>1.990018e+07</td>\n",
       "    </tr>\n",
       "    <tr>\n",
       "      <th>50%</th>\n",
       "      <td>7.882580e+05</td>\n",
       "      <td>2220.000000</td>\n",
       "      <td>950930.000000</td>\n",
       "      <td>1952.000000</td>\n",
       "      <td>30959.600000</td>\n",
       "      <td>4.673618e+07</td>\n",
       "    </tr>\n",
       "    <tr>\n",
       "      <th>75%</th>\n",
       "      <td>1.273700e+06</td>\n",
       "      <td>3357.000000</td>\n",
       "      <td>960606.000000</td>\n",
       "      <td>6500.000000</td>\n",
       "      <td>44661.000000</td>\n",
       "      <td>7.232217e+07</td>\n",
       "    </tr>\n",
       "    <tr>\n",
       "      <th>max</th>\n",
       "      <td>3.682934e+06</td>\n",
       "      <td>11382.000000</td>\n",
       "      <td>961231.000000</td>\n",
       "      <td>86400.000000</td>\n",
       "      <td>193909.900000</td>\n",
       "      <td>9.998564e+07</td>\n",
       "    </tr>\n",
       "  </tbody>\n",
       "</table>\n",
       "</div>"
      ],
      "text/plain": [
       "           trans_id     account_id           date         amount   \n",
       "count  3.966850e+05  396685.000000  396685.000000  396685.000000  \\\n",
       "mean   1.239338e+06    2508.434796  951310.066801    5677.552980   \n",
       "std    1.213288e+06    2020.928889    9510.974536    9190.364137   \n",
       "min    1.000000e+00       1.000000  930101.000000       0.000000   \n",
       "25%    3.918330e+05    1092.000000  941110.000000     127.500000   \n",
       "50%    7.882580e+05    2220.000000  950930.000000    1952.000000   \n",
       "75%    1.273700e+06    3357.000000  960606.000000    6500.000000   \n",
       "max    3.682934e+06   11382.000000  961231.000000   86400.000000   \n",
       "\n",
       "             balance       account  \n",
       "count  396685.000000  1.022290e+05  \n",
       "mean    35804.792507  4.664229e+07  \n",
       "std     19692.148243  3.002136e+07  \n",
       "min    -13588.700000  0.000000e+00  \n",
       "25%     22424.300000  1.990018e+07  \n",
       "50%     30959.600000  4.673618e+07  \n",
       "75%     44661.000000  7.232217e+07  \n",
       "max    193909.900000  9.998564e+07  "
      ]
     },
     "execution_count": 14,
     "metadata": {},
     "output_type": "execute_result"
    }
   ],
   "source": [
    "trans_dev.describe()"
   ]
  },
  {
   "cell_type": "markdown",
   "metadata": {},
   "source": [
    "#### Missing Values"
   ]
  },
  {
   "cell_type": "code",
   "execution_count": null,
   "metadata": {},
   "outputs": [
    {
     "name": "stdout",
     "output_type": "stream",
     "text": [
      "trans_id           0\n",
      "account_id         0\n",
      "date               0\n",
      "type               0\n",
      "operation      70761\n",
      "amount             0\n",
      "balance            0\n",
      "k_symbol      185244\n",
      "bank          299443\n",
      "account       294456\n",
      "dtype: int64\n",
      "\n",
      "There are 849904 NA values\n"
     ]
    }
   ],
   "source": [
    "print(trans_dev.isna().sum())\n",
    "print()\n",
    "print(\"There are \" + str(trans_dev.isna().sum().sum()) + \" NA values\")"
   ]
  },
  {
   "cell_type": "markdown",
   "metadata": {},
   "source": [
    "#### Duplicate values"
   ]
  },
  {
   "cell_type": "code",
   "execution_count": null,
   "metadata": {},
   "outputs": [
    {
     "name": "stdout",
     "output_type": "stream",
     "text": [
      "Dataset length: 396685\n",
      "Number of duplicates: 0\n"
     ]
    }
   ],
   "source": [
    "print(\"Dataset length: \" + str(len(trans_dev)))\n",
    "print(\"Number of duplicates: \" + str(trans_dev.duplicated().sum()))"
   ]
  },
  {
   "cell_type": "markdown",
   "metadata": {},
   "source": [
    "#### Merge Account, Disposition, Client and Loan datasets"
   ]
  },
  {
   "cell_type": "code",
   "execution_count": 143,
   "metadata": {},
   "outputs": [
    {
     "data": {
      "text/html": [
       "<div>\n",
       "<style scoped>\n",
       "    .dataframe tbody tr th:only-of-type {\n",
       "        vertical-align: middle;\n",
       "    }\n",
       "\n",
       "    .dataframe tbody tr th {\n",
       "        vertical-align: top;\n",
       "    }\n",
       "\n",
       "    .dataframe thead th {\n",
       "        text-align: right;\n",
       "    }\n",
       "</style>\n",
       "<table border=\"1\" class=\"dataframe\">\n",
       "  <thead>\n",
       "    <tr style=\"text-align: right;\">\n",
       "      <th></th>\n",
       "      <th>loan_id</th>\n",
       "      <th>account_id</th>\n",
       "      <th>date_x</th>\n",
       "      <th>amount</th>\n",
       "      <th>duration</th>\n",
       "      <th>payments</th>\n",
       "      <th>status</th>\n",
       "      <th>client_id</th>\n",
       "      <th>sex</th>\n",
       "      <th>age</th>\n",
       "      <th>frequency</th>\n",
       "      <th>date_y</th>\n",
       "      <th>disp_id</th>\n",
       "      <th>type</th>\n",
       "      <th>district_id</th>\n",
       "    </tr>\n",
       "  </thead>\n",
       "  <tbody>\n",
       "    <tr>\n",
       "      <th>0</th>\n",
       "      <td>5314</td>\n",
       "      <td>1787</td>\n",
       "      <td>930705</td>\n",
       "      <td>96396</td>\n",
       "      <td>12</td>\n",
       "      <td>8033</td>\n",
       "      <td>-1</td>\n",
       "      <td>2166</td>\n",
       "      <td>Female</td>\n",
       "      <td>50</td>\n",
       "      <td>weekly issuance</td>\n",
       "      <td>1993-03-22</td>\n",
       "      <td>2166</td>\n",
       "      <td>OWNER</td>\n",
       "      <td>30.0</td>\n",
       "    </tr>\n",
       "    <tr>\n",
       "      <th>1</th>\n",
       "      <td>5316</td>\n",
       "      <td>1801</td>\n",
       "      <td>930711</td>\n",
       "      <td>165960</td>\n",
       "      <td>36</td>\n",
       "      <td>4610</td>\n",
       "      <td>1</td>\n",
       "      <td>2181</td>\n",
       "      <td>Male</td>\n",
       "      <td>29</td>\n",
       "      <td>monthly issuance</td>\n",
       "      <td>1993-02-13</td>\n",
       "      <td>2181</td>\n",
       "      <td>OWNER</td>\n",
       "      <td>46.0</td>\n",
       "    </tr>\n",
       "    <tr>\n",
       "      <th>2</th>\n",
       "      <td>6863</td>\n",
       "      <td>9188</td>\n",
       "      <td>930728</td>\n",
       "      <td>127080</td>\n",
       "      <td>60</td>\n",
       "      <td>2118</td>\n",
       "      <td>1</td>\n",
       "      <td>11314</td>\n",
       "      <td>Male</td>\n",
       "      <td>61</td>\n",
       "      <td>monthly issuance</td>\n",
       "      <td>1993-02-08</td>\n",
       "      <td>11006</td>\n",
       "      <td>OWNER</td>\n",
       "      <td>45.0</td>\n",
       "    </tr>\n",
       "    <tr>\n",
       "      <th>3</th>\n",
       "      <td>5325</td>\n",
       "      <td>1843</td>\n",
       "      <td>930803</td>\n",
       "      <td>105804</td>\n",
       "      <td>36</td>\n",
       "      <td>2939</td>\n",
       "      <td>1</td>\n",
       "      <td>2235</td>\n",
       "      <td>Female</td>\n",
       "      <td>57</td>\n",
       "      <td>monthly issuance</td>\n",
       "      <td>1993-01-30</td>\n",
       "      <td>2235</td>\n",
       "      <td>OWNER</td>\n",
       "      <td>13.0</td>\n",
       "    </tr>\n",
       "    <tr>\n",
       "      <th>4</th>\n",
       "      <td>7240</td>\n",
       "      <td>11013</td>\n",
       "      <td>930906</td>\n",
       "      <td>274740</td>\n",
       "      <td>60</td>\n",
       "      <td>4579</td>\n",
       "      <td>1</td>\n",
       "      <td>13539</td>\n",
       "      <td>Male</td>\n",
       "      <td>19</td>\n",
       "      <td>weekly issuance</td>\n",
       "      <td>1993-02-14</td>\n",
       "      <td>13231</td>\n",
       "      <td>OWNER</td>\n",
       "      <td>32.0</td>\n",
       "    </tr>\n",
       "  </tbody>\n",
       "</table>\n",
       "</div>"
      ],
      "text/plain": [
       "   loan_id  account_id  date_x  amount  duration  payments  status  client_id  \\\n",
       "0     5314        1787  930705   96396        12      8033      -1       2166   \n",
       "1     5316        1801  930711  165960        36      4610       1       2181   \n",
       "2     6863        9188  930728  127080        60      2118       1      11314   \n",
       "3     5325        1843  930803  105804        36      2939       1       2235   \n",
       "4     7240       11013  930906  274740        60      4579       1      13539   \n",
       "\n",
       "      sex  age         frequency     date_y  disp_id   type  district_id  \n",
       "0  Female   50   weekly issuance 1993-03-22     2166  OWNER         30.0  \n",
       "1    Male   29  monthly issuance 1993-02-13     2181  OWNER         46.0  \n",
       "2    Male   61  monthly issuance 1993-02-08    11006  OWNER         45.0  \n",
       "3  Female   57  monthly issuance 1993-01-30     2235  OWNER         13.0  \n",
       "4    Male   19   weekly issuance 1993-02-14    13231  OWNER         32.0  "
      ]
     },
     "execution_count": 143,
     "metadata": {},
     "output_type": "execute_result"
    }
   ],
   "source": [
    "account_disp = pd.merge(account, disp, on='account_id', how='inner')\n",
    "account_disp_client = pd.merge(client, account_disp, on='client_id', how='inner')\n",
    "account_disp_client_loan = pd.merge(loan_dev, account_disp_client, on='account_id', how='inner')\n",
    "account_disp_client_loan['district_id'] = (account_disp_client_loan['district_id_x'] + account_disp_client_loan['district_id_y']) / 2\n",
    "account_disp_client_loan.drop('district_id_x', axis=1, inplace=True)\n",
    "account_disp_client_loan.drop('district_id_y', axis=1, inplace=True)\n",
    "\n",
    "account_disp_client_loan.head()\n"
   ]
  },
  {
   "cell_type": "code",
   "execution_count": 144,
   "metadata": {},
   "outputs": [
    {
     "data": {
      "text/html": [
       "<div>\n",
       "<style scoped>\n",
       "    .dataframe tbody tr th:only-of-type {\n",
       "        vertical-align: middle;\n",
       "    }\n",
       "\n",
       "    .dataframe tbody tr th {\n",
       "        vertical-align: top;\n",
       "    }\n",
       "\n",
       "    .dataframe thead th {\n",
       "        text-align: right;\n",
       "    }\n",
       "</style>\n",
       "<table border=\"1\" class=\"dataframe\">\n",
       "  <thead>\n",
       "    <tr style=\"text-align: right;\">\n",
       "      <th></th>\n",
       "      <th>client_id</th>\n",
       "      <th>district_id</th>\n",
       "      <th>age</th>\n",
       "      <th>number_loans</th>\n",
       "    </tr>\n",
       "  </thead>\n",
       "  <tbody>\n",
       "    <tr>\n",
       "      <th>count</th>\n",
       "      <td>5369.000000</td>\n",
       "      <td>5369.000000</td>\n",
       "      <td>5369.000000</td>\n",
       "      <td>5369.000000</td>\n",
       "    </tr>\n",
       "    <tr>\n",
       "      <th>mean</th>\n",
       "      <td>3359.011920</td>\n",
       "      <td>37.310114</td>\n",
       "      <td>43.801639</td>\n",
       "      <td>0.075061</td>\n",
       "    </tr>\n",
       "    <tr>\n",
       "      <th>std</th>\n",
       "      <td>2832.911984</td>\n",
       "      <td>25.043690</td>\n",
       "      <td>17.282283</td>\n",
       "      <td>0.263514</td>\n",
       "    </tr>\n",
       "    <tr>\n",
       "      <th>min</th>\n",
       "      <td>1.000000</td>\n",
       "      <td>1.000000</td>\n",
       "      <td>10.000000</td>\n",
       "      <td>0.000000</td>\n",
       "    </tr>\n",
       "    <tr>\n",
       "      <th>25%</th>\n",
       "      <td>1418.000000</td>\n",
       "      <td>14.000000</td>\n",
       "      <td>29.000000</td>\n",
       "      <td>0.000000</td>\n",
       "    </tr>\n",
       "    <tr>\n",
       "      <th>50%</th>\n",
       "      <td>2839.000000</td>\n",
       "      <td>38.000000</td>\n",
       "      <td>43.000000</td>\n",
       "      <td>0.000000</td>\n",
       "    </tr>\n",
       "    <tr>\n",
       "      <th>75%</th>\n",
       "      <td>4257.000000</td>\n",
       "      <td>60.000000</td>\n",
       "      <td>57.000000</td>\n",
       "      <td>0.000000</td>\n",
       "    </tr>\n",
       "    <tr>\n",
       "      <th>max</th>\n",
       "      <td>13998.000000</td>\n",
       "      <td>77.000000</td>\n",
       "      <td>86.000000</td>\n",
       "      <td>1.000000</td>\n",
       "    </tr>\n",
       "  </tbody>\n",
       "</table>\n",
       "</div>"
      ],
      "text/plain": [
       "          client_id  district_id          age  number_loans\n",
       "count   5369.000000  5369.000000  5369.000000   5369.000000\n",
       "mean    3359.011920    37.310114    43.801639      0.075061\n",
       "std     2832.911984    25.043690    17.282283      0.263514\n",
       "min        1.000000     1.000000    10.000000      0.000000\n",
       "25%     1418.000000    14.000000    29.000000      0.000000\n",
       "50%     2839.000000    38.000000    43.000000      0.000000\n",
       "75%     4257.000000    60.000000    57.000000      0.000000\n",
       "max    13998.000000    77.000000    86.000000      1.000000"
      ]
     },
     "execution_count": 144,
     "metadata": {},
     "output_type": "execute_result"
    }
   ],
   "source": [
    "loan_counts = account_disp_client_loan['client_id'].value_counts().reset_index()\n",
    "loan_counts.columns = ['client_id', 'number_loans']\n",
    "client = client.merge(loan_counts, on='client_id', how='left')\n",
    "client['number_loans'].fillna(0, inplace=True)\n",
    "client.describe()"
   ]
  }
 ],
 "metadata": {
  "kernelspec": {
   "display_name": "Python 3",
   "language": "python",
   "name": "python3"
  },
  "language_info": {
   "codemirror_mode": {
    "name": "ipython",
    "version": 3
   },
   "file_extension": ".py",
   "mimetype": "text/x-python",
   "name": "python",
   "nbconvert_exporter": "python",
   "pygments_lexer": "ipython3",
   "version": "3.10.11"
  },
  "orig_nbformat": 4
 },
 "nbformat": 4,
 "nbformat_minor": 2
}
